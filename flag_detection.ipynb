{
  "nbformat": 4,
  "nbformat_minor": 0,
  "metadata": {
    "colab": {
      "name": "flag_detection.ipynb",
      "provenance": [],
      "collapsed_sections": []
    },
    "kernelspec": {
      "name": "python3",
      "display_name": "Python 3"
    },
    "language_info": {
      "name": "python"
    },
    "accelerator": "GPU"
  },
  "cells": [
    {
      "cell_type": "markdown",
      "metadata": {
        "id": "o4A7EGhs4qRB"
      },
      "source": [
        "**Ardigen Recruitment Task 1** \n",
        "\n",
        "\n",
        "Problem 1: tell the name of the country for a flag given\n",
        "\n",
        "1.   The app you will build shall take an image of a national flag and return the name of the country to which this flag belongs to. Use Wikipedia for reference flags (https://en.wikipedia.org/wiki/Gallery_of_sovereign_state_flags. \n",
        "2.   You can assume that the flag image is transformed by projective transform only, however, there can be some color/focus/brightness perturbation.\n",
        "\n",
        "3.   To fasten the database creation, you can use wikipedia Python package\n",
        "(https://pypi.org/project/wikipedia/).\n",
        "\n",
        "\n",
        "Please omit using deep learning algorithms.\n",
        "\n"
      ]
    },
    {
      "cell_type": "code",
      "metadata": {
        "colab": {
          "base_uri": "https://localhost:8080/"
        },
        "id": "kuE8vkFrVuFB",
        "outputId": "ebcc844c-526a-48b3-e998-58d591193f80"
      },
      "source": [
        "!pip install wikipedia cairosvg\n",
        "import wikipedia\n",
        "import urllib.request as req\n",
        "import re\n",
        "from os import listdir, rename, path\n",
        "import matplotlib.pyplot as plt\n",
        "import cairosvg\n",
        "import imutils\n",
        "import cv2\n",
        "import numpy as np\n",
        "from sklearn.metrics import mean_squared_error\n",
        "import pandas as pd"
      ],
      "execution_count": null,
      "outputs": [
        {
          "output_type": "stream",
          "name": "stdout",
          "text": [
            "Collecting wikipedia\n",
            "  Downloading wikipedia-1.4.0.tar.gz (27 kB)\n",
            "Collecting cairosvg\n",
            "  Downloading CairoSVG-2.5.2-py3-none-any.whl (45 kB)\n",
            "\u001b[K     |████████████████████████████████| 45 kB 3.2 MB/s \n",
            "\u001b[?25hRequirement already satisfied: beautifulsoup4 in /usr/local/lib/python3.7/dist-packages (from wikipedia) (4.6.3)\n",
            "Requirement already satisfied: requests<3.0.0,>=2.0.0 in /usr/local/lib/python3.7/dist-packages (from wikipedia) (2.23.0)\n",
            "Requirement already satisfied: urllib3!=1.25.0,!=1.25.1,<1.26,>=1.21.1 in /usr/local/lib/python3.7/dist-packages (from requests<3.0.0,>=2.0.0->wikipedia) (1.24.3)\n",
            "Requirement already satisfied: chardet<4,>=3.0.2 in /usr/local/lib/python3.7/dist-packages (from requests<3.0.0,>=2.0.0->wikipedia) (3.0.4)\n",
            "Requirement already satisfied: idna<3,>=2.5 in /usr/local/lib/python3.7/dist-packages (from requests<3.0.0,>=2.0.0->wikipedia) (2.10)\n",
            "Requirement already satisfied: certifi>=2017.4.17 in /usr/local/lib/python3.7/dist-packages (from requests<3.0.0,>=2.0.0->wikipedia) (2021.5.30)\n",
            "Collecting tinycss2\n",
            "  Downloading tinycss2-1.1.0-py3-none-any.whl (21 kB)\n",
            "Collecting cairocffi\n",
            "  Downloading cairocffi-1.3.0.tar.gz (88 kB)\n",
            "\u001b[K     |████████████████████████████████| 88 kB 6.8 MB/s \n",
            "\u001b[?25hRequirement already satisfied: pillow in /usr/local/lib/python3.7/dist-packages (from cairosvg) (7.1.2)\n",
            "Collecting cssselect2\n",
            "  Downloading cssselect2-0.4.1-py3-none-any.whl (13 kB)\n",
            "Requirement already satisfied: defusedxml in /usr/local/lib/python3.7/dist-packages (from cairosvg) (0.7.1)\n",
            "Requirement already satisfied: cffi>=1.1.0 in /usr/local/lib/python3.7/dist-packages (from cairocffi->cairosvg) (1.14.6)\n",
            "Requirement already satisfied: pycparser in /usr/local/lib/python3.7/dist-packages (from cffi>=1.1.0->cairocffi->cairosvg) (2.20)\n",
            "Requirement already satisfied: webencodings in /usr/local/lib/python3.7/dist-packages (from cssselect2->cairosvg) (0.5.1)\n",
            "Building wheels for collected packages: wikipedia, cairocffi\n",
            "  Building wheel for wikipedia (setup.py) ... \u001b[?25l\u001b[?25hdone\n",
            "  Created wheel for wikipedia: filename=wikipedia-1.4.0-py3-none-any.whl size=11696 sha256=853ac5522fa1116780f091a8b99247b369d915db9069ccadc9f7fd8b02934135\n",
            "  Stored in directory: /root/.cache/pip/wheels/15/93/6d/5b2c68b8a64c7a7a04947b4ed6d89fb557dcc6bc27d1d7f3ba\n",
            "  Building wheel for cairocffi (setup.py) ... \u001b[?25l\u001b[?25hdone\n",
            "  Created wheel for cairocffi: filename=cairocffi-1.3.0-py3-none-any.whl size=89667 sha256=030d228d71a399b468eea0b67e22844b2c97c4b78dc3ff549caa05ad931275b2\n",
            "  Stored in directory: /root/.cache/pip/wheels/4e/ca/e1/5c8a9692a27f639a07c949044bec943f26c81cd53d3805319f\n",
            "Successfully built wikipedia cairocffi\n",
            "Installing collected packages: tinycss2, cssselect2, cairocffi, wikipedia, cairosvg\n",
            "Successfully installed cairocffi-1.3.0 cairosvg-2.5.2 cssselect2-0.4.1 tinycss2-1.1.0 wikipedia-1.4.0\n"
          ]
        }
      ]
    },
    {
      "cell_type": "code",
      "metadata": {
        "id": "k17u-SGYQReU"
      },
      "source": [
        "def preparation_data(svg_flags_dir):\n",
        "  flags = wikipedia.page(\"Gallery of sovereign state flags\")\n",
        "  img_links = list(dict.fromkeys([ x for x in flags.images if \"Flag_of_\" in x ]))\n",
        "  for imageurl in img_links:\n",
        "    country_name = re.search(r\"F.*\\.svg$\", imageurl).group(0)\n",
        "    print(f'Download {country_name} flag')\n",
        "    req.urlretrieve(imageurl, path.join(svg_flags_dir, country_name))"
      ],
      "execution_count": null,
      "outputs": []
    },
    {
      "cell_type": "code",
      "metadata": {
        "id": "bTxOn_fhaQ2H"
      },
      "source": [
        "def flag_rename(svg_flags_dir):\n",
        "  to_rename = [ flag for flag in listdir(svg_flags_dir) if '%' in flag]\n",
        "  for flag in to_rename:\n",
        "\n",
        "    ## Gdybym miał Python3.10 to Pattern matching jak złoto. Z drugiej strony można to zrobić ręcznie bez kodu.\n",
        "    if flag == 'Flag_of_Australia_%28converted%29.svg':\n",
        "      rename(path.join(svg_flags_dir, flag), path.join(svg_flags_dir, 'Flag_of_Australia.svg'))\n",
        "    elif flag == 'Flag_of_Belgium_%28civil%29.svg':\n",
        "      rename(path.join(svg_flags_dir, flag), path.join(svg_flags_dir, 'Flag_of_Belgium.svg'))\n",
        "    elif flag == 'Flag_of_C%C3%B4te_d%27Ivoire.svg':\n",
        "      rename(path.join(svg_flags_dir, flag), path.join(svg_flags_dir, 'Flag_of_Ivory_Coast.svg'))\n",
        "    elif flag == 'Flag_of_Canada_%28Pantone%29.svg':\n",
        "      rename(path.join(svg_flags_dir, flag), path.join(svg_flags_dir, 'Flag_of_Canada.svg'))\n",
        "    elif flag == 'Flag_of_the_People%27s_Republic_of_China.svg':\n",
        "      rename(path.join(svg_flags_dir, flag), path.join(svg_flags_dir, 'Flag_of_China.svg'))\n",
        "    elif flag == 'Flag_of_Transnistria_%28state%29.svg':\n",
        "      rename(path.join(svg_flags_dir, flag), path.join(svg_flags_dir, 'Flag_of_Transnistria.svg'))\n",
        "    elif flag == 'Flag_of_Venezuela_%28state%29.svg':\n",
        "      rename(path.join(svg_flags_dir, flag), path.join(svg_flags_dir, 'Flag_of_Venezuela'))\n",
        "    elif flag == 'Flag_of_Costa_Rica_%28state%29.svg':\n",
        "      rename(path.join(svg_flags_dir, flag), path.join(svg_flags_dir, 'Flag_of_Costa_Rica'))\n",
        "    elif flag == 'Flag_of_Peru_%28state%29.svg':\n",
        "      rename(path.join(svg_flags_dir, flag), path.join(svg_flags_dir, 'Flag_of_Peru'))\n",
        "    elif flag == 'Flag_of_Afghanistan_%282013%E2%80%932021%29.svg':\n",
        "      rename(path.join(svg_flags_dir, flag), path.join(svg_flags_dir, 'Flag_of_Afghanistan'))\n",
        "    elif flag == 'Flag_of_Afghanistan_(2013–2021).svg':\n",
        "      rename(path.join(svg_flags_dir, flag), path.join(svg_flags_dir, 'Flag_of_Afghanistan'))\n",
        "    else:\n",
        "      print(f'ERROR, exist {flag}')"
      ],
      "execution_count": null,
      "outputs": []
    },
    {
      "cell_type": "code",
      "metadata": {
        "id": "mp3fuk-hawaH"
      },
      "source": [
        "def to_png_converter(svg_flags_dir,png_flags_dir):\n",
        "  for svg_flag in listdir(svg_flags_dir):\n",
        "      cairosvg.svg2png(url = path.join(svg_flags_dir, svg_flag), write_to = path.join(png_flags_dir, svg_flag.split('.')[0] + '.png'))"
      ],
      "execution_count": null,
      "outputs": []
    },
    {
      "cell_type": "code",
      "metadata": {
        "id": "VCroCqxqd1Xv"
      },
      "source": [
        "def get_name_country_from_file(flag):\n",
        "    country = flag.split('Flag_of_')[1].split('.')[0]\n",
        "    \n",
        "    if 'The_' in country: country = country.replace('The_','')\n",
        "\n",
        "    if 'the_' in country: country = country.replace('the_','')\n",
        "\n",
        "    return country"
      ],
      "execution_count": null,
      "outputs": []
    },
    {
      "cell_type": "code",
      "metadata": {
        "id": "6l007fM_Iv1j"
      },
      "source": [
        "def get_shapes_number(png_flags_dir):\n",
        "    country = []\n",
        "    cont_no = []\n",
        "    for flag in listdir(png_flags_dir):\n",
        "        image = cv2.imread(path.join(png_flags_dir, flag))\n",
        "        image = imutils.resize(image, height = 300)\n",
        "        gray = cv2.cvtColor(image, cv2.COLOR_BGR2GRAY)\n",
        "\n",
        "\n",
        "## Canny najlepiej się sprawdzi - Sobel będzie gorszy. Z racji że mamy flagi tj. Brazylia czy Chiny to trzeba bardziej dokladnie kontury znaleźć\n",
        "## Inna opcja to jakieś ANN zaimplementować. Ale w zdaniu nie można\n",
        "\n",
        "        edged = cv2.Canny(gray, 1, 49)\n",
        "        edged[:2,:] = 255\n",
        "        edged[-2:,:] = 255\n",
        "        edged[:,:2] = 255\n",
        "        edged[:,-2:] = 255\n",
        "\n",
        "        cnts = cv2.findContours(edged.copy(), cv2.RETR_LIST, cv2.CHAIN_APPROX_SIMPLE)\n",
        "        cnts = imutils.grab_contours(cnts)\n",
        "        cnts = np.array(sorted(cnts, key = cv2.contourArea, reverse = True))\n",
        "        \n",
        "        country.append(get_name_country_from_file(flag))\n",
        "        cont_no.append(len(cnts))\n",
        "        \n",
        "    return country, cont_no"
      ],
      "execution_count": null,
      "outputs": []
    },
    {
      "cell_type": "markdown",
      "metadata": {
        "id": "ZTkLeStTLngK"
      },
      "source": [
        "Maski dla kolorów w palecie HSV.\n",
        "\n",
        "**TO DO:**\n",
        "- Dodać mask dla rozowego, błękitnego oraz orange żeby lepiej rozróżniać kolory podobnych flag tj. Czad i Rumunia."
      ]
    },
    {
      "cell_type": "code",
      "metadata": {
        "id": "ism5sYJ5IySj"
      },
      "source": [
        "def get_colours(png_flags_dir,df):\n",
        "    \n",
        "    df = extend_df(df)\n",
        "    for flag in listdir(png_flags_dir):\n",
        "        \n",
        "        masks = generate_mask(path.join(png_flags_dir, flag))\n",
        "\n",
        "        country = get_name_country_from_file(flag)\n",
        "        df.at[country, 'colour_number'] = masks[6]\n",
        "        df.at[country, 'black'] = masks[0]\n",
        "        df.at[country, 'red'] = masks[1]\n",
        "        df.at[country, 'yellow'] = masks[2]\n",
        "        df.at[country, 'green'] = masks[3]\n",
        "        df.at[country, 'blue'] = masks[4]\n",
        "        df.at[country, 'white'] = masks[5]\n",
        "        \n",
        "    df['colour_number'] = df['colour_number'].astype('int32')"
      ],
      "execution_count": null,
      "outputs": []
    },
    {
      "cell_type": "code",
      "metadata": {
        "id": "29-Jh5_Tf_M7"
      },
      "source": [
        "def generate_mask(flag_path):\n",
        "  \n",
        "    image = cv2.imread(flag_path)\n",
        "    hsv_image = cv2.resize(image, (300, 300), interpolation = cv2.INTER_AREA)\n",
        "    hsv_image = cv2.cvtColor(hsv_image, cv2.COLOR_BGR2HSV)\n",
        "\n",
        "    mask_black = cv2.inRange(hsv_image, (0,0,0), (180,255,40))\n",
        "    mask_red = cv2.inRange(hsv_image, (0,40,40), (15,255,255))\n",
        "    mask_yellow = cv2.inRange(hsv_image, (15,40,40), (40,255,255))\n",
        "    mask_green = cv2.inRange(hsv_image, (40,40,40), (70,255,255))\n",
        "    mask_blue = cv2.inRange(hsv_image, (70,40,40), (120,255,255))\n",
        "    mask_white = cv2.inRange(hsv_image, (0,0,200), (180,30,255))\n",
        "\n",
        "    colours = np.array([mask_black, mask_red, mask_yellow, mask_green, mask_blue, mask_white])\n",
        "    colour_counter = 0\n",
        "    for colour in colours:\n",
        "\n",
        "        if colour.any() == False:\n",
        "          continue\n",
        "        else:\n",
        "          colour_counter = colour_counter + 1\n",
        "\n",
        "    return [mask_black,mask_red,mask_yellow,mask_green,mask_blue,mask_white,colour_counter,colours]"
      ],
      "execution_count": null,
      "outputs": []
    },
    {
      "cell_type": "code",
      "metadata": {
        "id": "yxLWsNK95_TG"
      },
      "source": [
        "def extend_df(df):\n",
        "  df['colour_number'] = 0\n",
        "  df['black'] = 0\n",
        "  df['black'] = df['black'].astype(object)\n",
        "  df['red'] = 0\n",
        "  df['red'] = df['red'].astype(object)\n",
        "  df['yellow'] = 0\n",
        "  df['yellow'] = df['yellow'].astype(object)\n",
        "  df['green'] = 0\n",
        "  df['green'] = df['green'].astype(object)\n",
        "  df['blue'] = 0\n",
        "  df['blue'] = df['blue'].astype(object)\n",
        "  df['white'] = 0\n",
        "  df['white'] = df['white'].astype(object)\n",
        "  \n",
        "  return df"
      ],
      "execution_count": null,
      "outputs": []
    },
    {
      "cell_type": "code",
      "metadata": {
        "colab": {
          "base_uri": "https://localhost:8080/",
          "height": 130
        },
        "id": "m6V-MEue9w_5",
        "outputId": "ab40db97-c0d8-431c-ee76-01567bef1be5"
      },
      "source": [
        "# coś robie zle\n",
        "\n",
        "#def extend_df(df):\n",
        "\n",
        "#    col_list = ['black', 'red', 'yellow', 'green', 'blue', 'white','colour_number']\n",
        "\n",
        "#    for col in col_list:\n",
        "#      df[col] = 0\n",
        "#      df[col] = df[col].astype(object)\n",
        "#      if col == 'colour_number':\n",
        "#        df[col] = df[col].astype(int32)\n",
        "\n",
        "\n",
        "#    return df\n"
      ],
      "execution_count": null,
      "outputs": [
        {
          "output_type": "error",
          "ename": "IndentationError",
          "evalue": "ignored",
          "traceback": [
            "\u001b[0;36m  File \u001b[0;32m\"<ipython-input-10-991afab5ae86>\"\u001b[0;36m, line \u001b[0;32m5\u001b[0m\n\u001b[0;31m    col_list = ['black', 'red', 'yellow', 'green', 'blue', 'white','colour_number']\u001b[0m\n\u001b[0m    ^\u001b[0m\n\u001b[0;31mIndentationError\u001b[0m\u001b[0;31m:\u001b[0m unexpected indent\n"
          ]
        }
      ]
    },
    {
      "cell_type": "code",
      "metadata": {
        "id": "sUSH44gtgHIw"
      },
      "source": [
        "def flag_recognision(flag_to_recognize):\n",
        "  masks = generate_mask(flag_to_recognize)\n",
        "  colours = masks[7]\n",
        "  df['mse'] = 0.0\n",
        "  for index, row in df.iterrows():\n",
        "    mses = np.empty(6)\n",
        "    sum_mse = 0\n",
        "    _colours_array = np.array(df.loc[index][2:8])\n",
        "    for tone in range(len(_colours_array)):\n",
        "        mses[tone] = mean_squared_error(_colours_array[tone],colours[tone])\n",
        "        sum_mse = sum_mse + mses[tone]\n",
        "    df.at[index, 'mse'] = sum_mse\n",
        "\n",
        "  row = df.loc[df['mse'] == min(df['mse'])]\n",
        "  name_country_based_on_flag = row['mse'].index.values[0]\n",
        "  print(f\"Predicted: {name_country_based_on_flag}\")\n",
        "  return name_country_based_on_flag"
      ],
      "execution_count": null,
      "outputs": []
    },
    {
      "cell_type": "markdown",
      "metadata": {
        "id": "ICFtZJ4QJKs_"
      },
      "source": [
        "**Właściwa część porgramu**"
      ]
    },
    {
      "cell_type": "code",
      "metadata": {
        "id": "nKJFqyNvxgQE"
      },
      "source": [
        "!mkdir oryginal_flags convert_flags_png"
      ],
      "execution_count": null,
      "outputs": []
    },
    {
      "cell_type": "code",
      "metadata": {
        "colab": {
          "base_uri": "https://localhost:8080/"
        },
        "id": "RTYQ3JEOV-s3",
        "outputId": "235ec645-3c81-47fa-d69f-7ad733f1f352"
      },
      "source": [
        "# Przygotowanie i zapisanie danych\n",
        "svg_flags_dir_path = 'oryginal_flags'\n",
        "png_flags_dir_path = 'convert_flags_png'\n",
        "\n",
        "\n",
        "preparation_data(svg_flags_dir_path)\n",
        "flag_rename(svg_flags_dir_path)\n",
        "to_png_converter(svg_flags_dir_path,png_flags_dir_path)"
      ],
      "execution_count": null,
      "outputs": [
        {
          "output_type": "stream",
          "name": "stdout",
          "text": [
            "Download Flag_of_Afghanistan_%282013%E2%80%932021%29.svg flag\n",
            "Download Flag_of_Albania.svg flag\n",
            "Download Flag_of_Algeria.svg flag\n",
            "Download Flag_of_Andorra.svg flag\n",
            "Download Flag_of_Angola.svg flag\n",
            "Download Flag_of_Antigua_and_Barbuda.svg flag\n",
            "Download Flag_of_Argentina.svg flag\n",
            "Download Flag_of_Armenia.svg flag\n",
            "Download Flag_of_Artsakh.svg flag\n",
            "Download Flag_of_Australia_%28converted%29.svg flag\n",
            "Download Flag_of_Austria.svg flag\n",
            "Download Flag_of_Azerbaijan.svg flag\n",
            "Download Flag_of_Bahrain.svg flag\n",
            "Download Flag_of_Bangladesh.svg flag\n",
            "Download Flag_of_Barbados.svg flag\n",
            "Download Flag_of_Belarus.svg flag\n",
            "Download Flag_of_Belgium_%28civil%29.svg flag\n",
            "Download Flag_of_Belize.svg flag\n",
            "Download Flag_of_Benin.svg flag\n",
            "Download Flag_of_Bhutan.svg flag\n",
            "Download Flag_of_Bosnia_and_Herzegovina.svg flag\n",
            "Download Flag_of_Botswana.svg flag\n",
            "Download Flag_of_Brunei.svg flag\n",
            "Download Flag_of_Bulgaria.svg flag\n",
            "Download Flag_of_Burkina_Faso.svg flag\n",
            "Download Flag_of_Burundi.svg flag\n",
            "Download Flag_of_Cambodia.svg flag\n",
            "Download Flag_of_Cameroon.svg flag\n",
            "Download Flag_of_Canada_%28Pantone%29.svg flag\n",
            "Download Flag_of_Cape_Verde.svg flag\n",
            "Download Flag_of_Chad.svg flag\n",
            "Download Flag_of_Chile.svg flag\n",
            "Download Flag_of_Colombia.svg flag\n",
            "Download Flag_of_Costa_Rica_%28state%29.svg flag\n",
            "Download Flag_of_Croatia.svg flag\n",
            "Download Flag_of_Cuba.svg flag\n",
            "Download Flag_of_Cyprus.svg flag\n",
            "Download Flag_of_C%C3%B4te_d%27Ivoire.svg flag\n",
            "Download Flag_of_Denmark.svg flag\n",
            "Download Flag_of_Djibouti.svg flag\n",
            "Download Flag_of_Dominica.svg flag\n",
            "Download Flag_of_East_Timor.svg flag\n",
            "Download Flag_of_Ecuador.svg flag\n",
            "Download Flag_of_Egypt.svg flag\n",
            "Download Flag_of_El_Salvador.svg flag\n",
            "Download Flag_of_Equatorial_Guinea.svg flag\n",
            "Download Flag_of_Estonia.svg flag\n",
            "Download Flag_of_Eswatini.svg flag\n",
            "Download Flag_of_Ethiopia.svg flag\n",
            "Download Flag_of_the_Federated_States_of_Micronesia.svg flag\n",
            "Download Flag_of_Fiji.svg flag\n",
            "Download Flag_of_Finland.svg flag\n",
            "Download Flag_of_Georgia.svg flag\n",
            "Download Flag_of_Ghana.svg flag\n",
            "Download Flag_of_Greece.svg flag\n",
            "Download Flag_of_Guatemala.svg flag\n",
            "Download Flag_of_Guinea-Bissau.svg flag\n",
            "Download Flag_of_Guinea.svg flag\n",
            "Download Flag_of_Guyana.svg flag\n",
            "Download Flag_of_Haiti.svg flag\n",
            "Download Flag_of_Honduras.svg flag\n",
            "Download Flag_of_Hungary.svg flag\n",
            "Download Flag_of_Iceland.svg flag\n",
            "Download Flag_of_Indonesia.svg flag\n",
            "Download Flag_of_Iran.svg flag\n",
            "Download Flag_of_Iraq.svg flag\n",
            "Download Flag_of_Ireland.svg flag\n",
            "Download Flag_of_Israel.svg flag\n",
            "Download Flag_of_Jamaica.svg flag\n",
            "Download Flag_of_Jordan.svg flag\n",
            "Download Flag_of_Kazakhstan.svg flag\n",
            "Download Flag_of_Kenya.svg flag\n",
            "Download Flag_of_Kiribati.svg flag\n",
            "Download Flag_of_Kosovo.svg flag\n",
            "Download Flag_of_Kuwait.svg flag\n",
            "Download Flag_of_Kyrgyzstan.svg flag\n",
            "Download Flag_of_Laos.svg flag\n",
            "Download Flag_of_Latvia.svg flag\n",
            "Download Flag_of_Lebanon.svg flag\n",
            "Download Flag_of_Lesotho.svg flag\n",
            "Download Flag_of_Liberia.svg flag\n",
            "Download Flag_of_Libya.svg flag\n",
            "Download Flag_of_Liechtenstein.svg flag\n",
            "Download Flag_of_Lithuania.svg flag\n",
            "Download Flag_of_Luxembourg.svg flag\n",
            "Download Flag_of_Madagascar.svg flag\n",
            "Download Flag_of_Malawi.svg flag\n",
            "Download Flag_of_Malaysia.svg flag\n",
            "Download Flag_of_Maldives.svg flag\n",
            "Download Flag_of_Mali.svg flag\n",
            "Download Flag_of_Malta.svg flag\n",
            "Download Flag_of_Mauritania.svg flag\n",
            "Download Flag_of_Mauritius.svg flag\n",
            "Download Flag_of_Mexico.svg flag\n",
            "Download Flag_of_Moldova.svg flag\n",
            "Download Flag_of_Monaco.svg flag\n",
            "Download Flag_of_Mongolia.svg flag\n",
            "Download Flag_of_Montenegro.svg flag\n",
            "Download Flag_of_Morocco.svg flag\n",
            "Download Flag_of_Mozambique.svg flag\n",
            "Download Flag_of_Myanmar.svg flag\n",
            "Download Flag_of_Namibia.svg flag\n",
            "Download Flag_of_Nauru.svg flag\n",
            "Download Flag_of_Nepal.svg flag\n",
            "Download Flag_of_New_Zealand.svg flag\n",
            "Download Flag_of_Nicaragua.svg flag\n",
            "Download Flag_of_Niger.svg flag\n",
            "Download Flag_of_Nigeria.svg flag\n",
            "Download Flag_of_Niue.svg flag\n",
            "Download Flag_of_North_Korea.svg flag\n",
            "Download Flag_of_North_Macedonia.svg flag\n",
            "Download Flag_of_Norway.svg flag\n",
            "Download Flag_of_Oman.svg flag\n",
            "Download Flag_of_Pakistan.svg flag\n",
            "Download Flag_of_Palau.svg flag\n",
            "Download Flag_of_Palestine.svg flag\n",
            "Download Flag_of_Panama.svg flag\n",
            "Download Flag_of_Papua_New_Guinea.svg flag\n",
            "Download Flag_of_Paraguay.svg flag\n",
            "Download Flag_of_Peru_%28state%29.svg flag\n",
            "Download Flag_of_Portugal.svg flag\n",
            "Download Flag_of_Qatar.svg flag\n",
            "Download Flag_of_Romania.svg flag\n",
            "Download Flag_of_Rwanda.svg flag\n",
            "Download Flag_of_Samoa.svg flag\n",
            "Download Flag_of_San_Marino.svg flag\n",
            "Download Flag_of_Saudi_Arabia.svg flag\n",
            "Download Flag_of_Serbia.svg flag\n",
            "Download Flag_of_Seychelles.svg flag\n",
            "Download Flag_of_Singapore.svg flag\n",
            "Download Flag_of_Slovakia.svg flag\n",
            "Download Flag_of_Slovenia.svg flag\n",
            "Download Flag_of_Somalia.svg flag\n",
            "Download Flag_of_Somaliland.svg flag\n",
            "Download Flag_of_South_Africa.svg flag\n",
            "Download Flag_of_South_Korea.svg flag\n",
            "Download Flag_of_South_Ossetia.svg flag\n",
            "Download Flag_of_South_Sudan.svg flag\n",
            "Download Flag_of_Sri_Lanka.svg flag\n",
            "Download Flag_of_Sudan.svg flag\n",
            "Download Flag_of_Suriname.svg flag\n",
            "Download Flag_of_Switzerland.svg flag\n",
            "Download Flag_of_Syria.svg flag\n",
            "Download Flag_of_Tajikistan.svg flag\n",
            "Download Flag_of_Thailand.svg flag\n",
            "Download Flag_of_Togo.svg flag\n",
            "Download Flag_of_Transnistria_%28state%29.svg flag\n",
            "Download Flag_of_Trinidad_and_Tobago.svg flag\n",
            "Download Flag_of_Tunisia.svg flag\n",
            "Download Flag_of_Turkey.svg flag\n",
            "Download Flag_of_Turkmenistan.svg flag\n",
            "Download Flag_of_Tuvalu.svg flag\n",
            "Download Flag_of_Uganda.svg flag\n",
            "Download Flag_of_Ukraine.svg flag\n",
            "Download Flag_of_Uruguay.svg flag\n",
            "Download Flag_of_Vanuatu.svg flag\n",
            "Download Flag_of_Venezuela_%28state%29.svg flag\n",
            "Download Flag_of_Vietnam.svg flag\n",
            "Download Flag_of_Yemen.svg flag\n",
            "Download Flag_of_Zambia.svg flag\n",
            "Download Flag_of_Zimbabwe.svg flag\n",
            "Download Flag_of_the_Central_African_Republic.svg flag\n",
            "Download Flag_of_the_Comoros.svg flag\n",
            "Download Flag_of_the_Cook_Islands.svg flag\n",
            "Download Flag_of_the_Czech_Republic.svg flag\n",
            "Download Flag_of_the_Democratic_Republic_of_the_Congo.svg flag\n",
            "Download Flag_of_the_Dominican_Republic.svg flag\n",
            "Download Flag_of_the_Marshall_Islands.svg flag\n",
            "Download Flag_of_the_Netherlands.svg flag\n",
            "Download Flag_of_the_People%27s_Republic_of_China.svg flag\n",
            "Download Flag_of_the_Philippines.svg flag\n",
            "Download Flag_of_the_Republic_of_Abkhazia.svg flag\n",
            "Download Flag_of_the_Republic_of_China.svg flag\n",
            "Download Flag_of_the_Republic_of_the_Congo.svg flag\n",
            "Download Flag_of_the_Sahrawi_Arab_Democratic_Republic.svg flag\n",
            "Download Flag_of_the_Turkish_Republic_of_Northern_Cyprus.svg flag\n",
            "Download Flag_of_the_United_Arab_Emirates.svg flag\n",
            "Download Flag_of_the_Vatican_City.svg flag\n",
            "Download Flag_of_Brazil.svg flag\n",
            "Download Flag_of_Eritrea.svg flag\n",
            "Download Flag_of_France.svg flag\n",
            "Download Flag_of_Gabon.svg flag\n",
            "Download Flag_of_Germany.svg flag\n",
            "Download Flag_of_Grenada.svg flag\n",
            "Download Flag_of_India.svg flag\n",
            "Download Flag_of_Italy.svg flag\n",
            "Download Flag_of_Japan.svg flag\n",
            "Download Flag_of_Poland.svg flag\n",
            "Download Flag_of_Russia.svg flag\n",
            "Download Flag_of_Saint_Kitts_and_Nevis.svg flag\n",
            "Download Flag_of_Saint_Lucia.svg flag\n",
            "Download Flag_of_Saint_Vincent_and_the_Grenadines.svg flag\n",
            "Download Flag_of_Sao_Tome_and_Principe.svg flag\n",
            "Download Flag_of_Senegal.svg flag\n",
            "Download Flag_of_Sierra_Leone.svg flag\n",
            "Download Flag_of_Spain.svg flag\n",
            "Download Flag_of_Sweden.svg flag\n",
            "Download Flag_of_Tanzania.svg flag\n",
            "Download Flag_of_The_Gambia.svg flag\n",
            "Download Flag_of_Tonga.svg flag\n",
            "Download Flag_of_Uzbekistan.svg flag\n",
            "Download Flag_of_the_Bahamas.svg flag\n",
            "Download Flag_of_the_Solomon_Islands.svg flag\n",
            "Download Flag_of_the_United_Kingdom.svg flag\n",
            "Download Flag_of_the_United_States.svg flag\n"
          ]
        }
      ]
    },
    {
      "cell_type": "code",
      "metadata": {
        "colab": {
          "base_uri": "https://localhost:8080/",
          "height": 1000
        },
        "id": "1zd5_FCdKtL1",
        "outputId": "9f788f91-fdcd-4839-c6dd-a3d07a82815d"
      },
      "source": [
        "%pylab inline\n",
        "import matplotlib.pyplot as plt\n",
        "import matplotlib.image as mpimg\n",
        "\n",
        "\n",
        "country, cont_no = get_shapes_number(png_flags_dir_path)\n",
        "df = pd.DataFrame(cont_no, columns=['cont_no'], index=country)\n",
        "\n",
        "get_colours(png_flags_dir_path,df)\n",
        "\n",
        "yes = 0 ;\n",
        "\n",
        "all_country = len(listdir(png_flags_dir_path))\n",
        "\n",
        "for flag in listdir(png_flags_dir_path):\n",
        "  oryginal = str(get_name_country_from_file(flag))\n",
        "  print(f'Oryginal: {get_name_country_from_file(flag)}')\n",
        "  img = mpimg.imread(path.join(png_flags_dir_path, flag))\n",
        "  imgplot = plt.imshow(img)\n",
        "  plt.show()\n",
        "  predicted = flag_recognision(path.join(png_flags_dir_path, flag))\n",
        "  print(\"=====\\n\")\n",
        "\n"
      ],
      "execution_count": null,
      "outputs": [
        {
          "output_type": "stream",
          "name": "stdout",
          "text": [
            "Populating the interactive namespace from numpy and matplotlib\n"
          ]
        },
        {
          "output_type": "stream",
          "name": "stderr",
          "text": [
            "/usr/local/lib/python3.7/dist-packages/IPython/core/magics/pylab.py:161: UserWarning: pylab import has clobbered these variables: ['flag']\n",
            "`%matplotlib` prevents importing * from pylab and numpy\n",
            "  \"\\n`%matplotlib` prevents importing * from pylab and numpy\"\n",
            "/usr/local/lib/python3.7/dist-packages/ipykernel_launcher.py:21: VisibleDeprecationWarning: Creating an ndarray from ragged nested sequences (which is a list-or-tuple of lists-or-tuples-or ndarrays with different lengths or shapes) is deprecated. If you meant to do this, you must specify 'dtype=object' when creating the ndarray\n"
          ]
        },
        {
          "output_type": "stream",
          "name": "stdout",
          "text": [
            "Oryginal: San_Marino\n"
          ]
        },
        {
          "output_type": "display_data",
          "data": {
            "image/png": "[encoded data removed]",
            "text/plain": [
              "<Figure size 432x288 with 1 Axes>"
            ]
          },
          "metadata": {
            "needs_background": "light"
          }
        },
        {
          "output_type": "stream",
          "name": "stdout",
          "text": [
            "             cont_no  ...  mse\n",
            "San_Marino       380  ...  0.0\n",
            "Qatar             15  ...  0.0\n",
            "Denmark            6  ...  0.0\n",
            "Zambia           134  ...  0.0\n",
            "India             94  ...  0.0\n",
            "...              ...  ...  ...\n",
            "Uganda            34  ...  0.0\n",
            "Netherlands        4  ...  0.0\n",
            "Cameroon           5  ...  0.0\n",
            "Israel            22  ...  0.0\n",
            "Bulgaria           4  ...  0.0\n",
            "\n",
            "[205 rows x 9 columns]\n",
            "             cont_no  ...     mse\n",
            "San_Marino       380  ...  0.0000\n",
            "Qatar             15  ...  0.9847\n",
            "Denmark            6  ...  0.0000\n",
            "Zambia           134  ...  0.0000\n",
            "India             94  ...  0.0000\n",
            "...              ...  ...     ...\n",
            "Uganda            34  ...  0.0000\n",
            "Netherlands        4  ...  0.0000\n",
            "Cameroon           5  ...  0.0000\n",
            "Israel            22  ...  0.0000\n",
            "Bulgaria           4  ...  0.0000\n",
            "\n",
            "[205 rows x 9 columns]\n",
            "             cont_no  ...     mse\n",
            "San_Marino       380  ...  0.0000\n",
            "Qatar             15  ...  0.9847\n",
            "Denmark            6  ...  1.0340\n",
            "Zambia           134  ...  0.0000\n",
            "India             94  ...  0.0000\n",
            "...              ...  ...     ...\n",
            "Uganda            34  ...  0.0000\n",
            "Netherlands        4  ...  0.0000\n",
            "Cameroon           5  ...  0.0000\n",
            "Israel            22  ...  0.0000\n",
            "Bulgaria           4  ...  0.0000\n",
            "\n",
            "[205 rows x 9 columns]\n"
          ]
        },
        {
          "output_type": "error",
          "ename": "KeyboardInterrupt",
          "evalue": "ignored",
          "traceback": [
            "\u001b[0;31m---------------------------------------------------------------------------\u001b[0m",
            "\u001b[0;31mKeyboardInterrupt\u001b[0m                         Traceback (most recent call last)",
            "\u001b[0;32m<ipython-input-23-8693a0cbaeed>\u001b[0m in \u001b[0;36m<module>\u001b[0;34m()\u001b[0m\n\u001b[1;32m     19\u001b[0m   \u001b[0mimgplot\u001b[0m \u001b[0;34m=\u001b[0m \u001b[0mplt\u001b[0m\u001b[0;34m.\u001b[0m\u001b[0mimshow\u001b[0m\u001b[0;34m(\u001b[0m\u001b[0mimg\u001b[0m\u001b[0;34m)\u001b[0m\u001b[0;34m\u001b[0m\u001b[0;34m\u001b[0m\u001b[0m\n\u001b[1;32m     20\u001b[0m   \u001b[0mplt\u001b[0m\u001b[0;34m.\u001b[0m\u001b[0mshow\u001b[0m\u001b[0;34m(\u001b[0m\u001b[0;34m)\u001b[0m\u001b[0;34m\u001b[0m\u001b[0;34m\u001b[0m\u001b[0m\n\u001b[0;32m---> 21\u001b[0;31m   \u001b[0mpredicted\u001b[0m \u001b[0;34m=\u001b[0m \u001b[0mflag_recognision\u001b[0m\u001b[0;34m(\u001b[0m\u001b[0mpath\u001b[0m\u001b[0;34m.\u001b[0m\u001b[0mjoin\u001b[0m\u001b[0;34m(\u001b[0m\u001b[0mpng_flags_dir_path\u001b[0m\u001b[0;34m,\u001b[0m \u001b[0mflag\u001b[0m\u001b[0;34m)\u001b[0m\u001b[0;34m)\u001b[0m\u001b[0;34m\u001b[0m\u001b[0;34m\u001b[0m\u001b[0m\n\u001b[0m\u001b[1;32m     22\u001b[0m   \u001b[0mprint\u001b[0m\u001b[0;34m(\u001b[0m\u001b[0;34m\"=====\\n\"\u001b[0m\u001b[0;34m)\u001b[0m\u001b[0;34m\u001b[0m\u001b[0;34m\u001b[0m\u001b[0m\n\u001b[1;32m     23\u001b[0m \u001b[0;34m\u001b[0m\u001b[0m\n",
            "\u001b[0;32m<ipython-input-22-7f7f39b3386c>\u001b[0m in \u001b[0;36mflag_recognision\u001b[0;34m(flag_to_recognize)\u001b[0m\n\u001b[1;32m     11\u001b[0m         \u001b[0msum_mse\u001b[0m \u001b[0;34m=\u001b[0m \u001b[0msum_mse\u001b[0m \u001b[0;34m+\u001b[0m \u001b[0mmses\u001b[0m\u001b[0;34m[\u001b[0m\u001b[0mtone\u001b[0m\u001b[0;34m]\u001b[0m\u001b[0;34m\u001b[0m\u001b[0;34m\u001b[0m\u001b[0m\n\u001b[1;32m     12\u001b[0m     \u001b[0mdf\u001b[0m\u001b[0;34m.\u001b[0m\u001b[0mat\u001b[0m\u001b[0;34m[\u001b[0m\u001b[0mindex\u001b[0m\u001b[0;34m,\u001b[0m \u001b[0;34m'mse'\u001b[0m\u001b[0;34m]\u001b[0m \u001b[0;34m=\u001b[0m \u001b[0msum_mse\u001b[0m\u001b[0;34m\u001b[0m\u001b[0;34m\u001b[0m\u001b[0m\n\u001b[0;32m---> 13\u001b[0;31m     \u001b[0mprint\u001b[0m\u001b[0;34m(\u001b[0m\u001b[0mdf\u001b[0m\u001b[0;34m)\u001b[0m\u001b[0;34m\u001b[0m\u001b[0;34m\u001b[0m\u001b[0m\n\u001b[0m\u001b[1;32m     14\u001b[0m \u001b[0;34m\u001b[0m\u001b[0m\n\u001b[1;32m     15\u001b[0m   \u001b[0mprint\u001b[0m\u001b[0;34m(\u001b[0m\u001b[0mdf\u001b[0m\u001b[0;34m)\u001b[0m\u001b[0;34m\u001b[0m\u001b[0;34m\u001b[0m\u001b[0m\n",
            "\u001b[0;32m/usr/local/lib/python3.7/dist-packages/pandas/core/frame.py\u001b[0m in \u001b[0;36m__repr__\u001b[0;34m(self)\u001b[0m\n\u001b[1;32m    749\u001b[0m             \u001b[0mline_width\u001b[0m\u001b[0;34m=\u001b[0m\u001b[0mwidth\u001b[0m\u001b[0;34m,\u001b[0m\u001b[0;34m\u001b[0m\u001b[0;34m\u001b[0m\u001b[0m\n\u001b[1;32m    750\u001b[0m             \u001b[0mmax_colwidth\u001b[0m\u001b[0;34m=\u001b[0m\u001b[0mmax_colwidth\u001b[0m\u001b[0;34m,\u001b[0m\u001b[0;34m\u001b[0m\u001b[0;34m\u001b[0m\u001b[0m\n\u001b[0;32m--> 751\u001b[0;31m             \u001b[0mshow_dimensions\u001b[0m\u001b[0;34m=\u001b[0m\u001b[0mshow_dimensions\u001b[0m\u001b[0;34m,\u001b[0m\u001b[0;34m\u001b[0m\u001b[0;34m\u001b[0m\u001b[0m\n\u001b[0m\u001b[1;32m    752\u001b[0m         )\n\u001b[1;32m    753\u001b[0m \u001b[0;34m\u001b[0m\u001b[0m\n",
            "\u001b[0;32m/usr/local/lib/python3.7/dist-packages/pandas/core/frame.py\u001b[0m in \u001b[0;36mto_string\u001b[0;34m(self, buf, columns, col_space, header, index, na_rep, formatters, float_format, sparsify, index_names, justify, max_rows, min_rows, max_cols, show_dimensions, decimal, line_width, max_colwidth, encoding)\u001b[0m\n\u001b[1;32m    881\u001b[0m                 \u001b[0mline_width\u001b[0m\u001b[0;34m=\u001b[0m\u001b[0mline_width\u001b[0m\u001b[0;34m,\u001b[0m\u001b[0;34m\u001b[0m\u001b[0;34m\u001b[0m\u001b[0m\n\u001b[1;32m    882\u001b[0m             )\n\u001b[0;32m--> 883\u001b[0;31m             \u001b[0;32mreturn\u001b[0m \u001b[0mformatter\u001b[0m\u001b[0;34m.\u001b[0m\u001b[0mto_string\u001b[0m\u001b[0;34m(\u001b[0m\u001b[0mbuf\u001b[0m\u001b[0;34m=\u001b[0m\u001b[0mbuf\u001b[0m\u001b[0;34m,\u001b[0m \u001b[0mencoding\u001b[0m\u001b[0;34m=\u001b[0m\u001b[0mencoding\u001b[0m\u001b[0;34m)\u001b[0m\u001b[0;34m\u001b[0m\u001b[0;34m\u001b[0m\u001b[0m\n\u001b[0m\u001b[1;32m    884\u001b[0m \u001b[0;34m\u001b[0m\u001b[0m\n\u001b[1;32m    885\u001b[0m     \u001b[0;31m# ----------------------------------------------------------------------\u001b[0m\u001b[0;34m\u001b[0m\u001b[0;34m\u001b[0m\u001b[0;34m\u001b[0m\u001b[0m\n",
            "\u001b[0;32m/usr/local/lib/python3.7/dist-packages/pandas/io/formats/format.py\u001b[0m in \u001b[0;36mto_string\u001b[0;34m(self, buf, encoding)\u001b[0m\n\u001b[1;32m    919\u001b[0m         \u001b[0mencoding\u001b[0m\u001b[0;34m:\u001b[0m \u001b[0mOptional\u001b[0m\u001b[0;34m[\u001b[0m\u001b[0mstr\u001b[0m\u001b[0;34m]\u001b[0m \u001b[0;34m=\u001b[0m \u001b[0;32mNone\u001b[0m\u001b[0;34m,\u001b[0m\u001b[0;34m\u001b[0m\u001b[0;34m\u001b[0m\u001b[0m\n\u001b[1;32m    920\u001b[0m     ) -> Optional[str]:\n\u001b[0;32m--> 921\u001b[0;31m         \u001b[0;32mreturn\u001b[0m \u001b[0mself\u001b[0m\u001b[0;34m.\u001b[0m\u001b[0mget_result\u001b[0m\u001b[0;34m(\u001b[0m\u001b[0mbuf\u001b[0m\u001b[0;34m=\u001b[0m\u001b[0mbuf\u001b[0m\u001b[0;34m,\u001b[0m \u001b[0mencoding\u001b[0m\u001b[0;34m=\u001b[0m\u001b[0mencoding\u001b[0m\u001b[0;34m)\u001b[0m\u001b[0;34m\u001b[0m\u001b[0;34m\u001b[0m\u001b[0m\n\u001b[0m\u001b[1;32m    922\u001b[0m \u001b[0;34m\u001b[0m\u001b[0m\n\u001b[1;32m    923\u001b[0m     def to_latex(\n",
            "\u001b[0;32m/usr/local/lib/python3.7/dist-packages/pandas/io/formats/format.py\u001b[0m in \u001b[0;36mget_result\u001b[0;34m(self, buf, encoding)\u001b[0m\n\u001b[1;32m    518\u001b[0m         \"\"\"\n\u001b[1;32m    519\u001b[0m         \u001b[0;32mwith\u001b[0m \u001b[0mself\u001b[0m\u001b[0;34m.\u001b[0m\u001b[0mget_buffer\u001b[0m\u001b[0;34m(\u001b[0m\u001b[0mbuf\u001b[0m\u001b[0;34m,\u001b[0m \u001b[0mencoding\u001b[0m\u001b[0;34m=\u001b[0m\u001b[0mencoding\u001b[0m\u001b[0;34m)\u001b[0m \u001b[0;32mas\u001b[0m \u001b[0mf\u001b[0m\u001b[0;34m:\u001b[0m\u001b[0;34m\u001b[0m\u001b[0;34m\u001b[0m\u001b[0m\n\u001b[0;32m--> 520\u001b[0;31m             \u001b[0mself\u001b[0m\u001b[0;34m.\u001b[0m\u001b[0mwrite_result\u001b[0m\u001b[0;34m(\u001b[0m\u001b[0mbuf\u001b[0m\u001b[0;34m=\u001b[0m\u001b[0mf\u001b[0m\u001b[0;34m)\u001b[0m\u001b[0;34m\u001b[0m\u001b[0;34m\u001b[0m\u001b[0m\n\u001b[0m\u001b[1;32m    521\u001b[0m             \u001b[0;32mif\u001b[0m \u001b[0mbuf\u001b[0m \u001b[0;32mis\u001b[0m \u001b[0;32mNone\u001b[0m\u001b[0;34m:\u001b[0m\u001b[0;34m\u001b[0m\u001b[0;34m\u001b[0m\u001b[0m\n\u001b[1;32m    522\u001b[0m                 \u001b[0;32mreturn\u001b[0m \u001b[0mf\u001b[0m\u001b[0;34m.\u001b[0m\u001b[0mgetvalue\u001b[0m\u001b[0;34m(\u001b[0m\u001b[0;34m)\u001b[0m\u001b[0;34m\u001b[0m\u001b[0;34m\u001b[0m\u001b[0m\n",
            "\u001b[0;32m/usr/local/lib/python3.7/dist-packages/pandas/io/formats/format.py\u001b[0m in \u001b[0;36mwrite_result\u001b[0;34m(self, buf)\u001b[0m\n\u001b[1;32m    832\u001b[0m         \u001b[0;32melse\u001b[0m\u001b[0;34m:\u001b[0m\u001b[0;34m\u001b[0m\u001b[0;34m\u001b[0m\u001b[0m\n\u001b[1;32m    833\u001b[0m \u001b[0;34m\u001b[0m\u001b[0m\n\u001b[0;32m--> 834\u001b[0;31m             \u001b[0mstrcols\u001b[0m \u001b[0;34m=\u001b[0m \u001b[0mself\u001b[0m\u001b[0;34m.\u001b[0m\u001b[0m_to_str_columns\u001b[0m\u001b[0;34m(\u001b[0m\u001b[0;34m)\u001b[0m\u001b[0;34m\u001b[0m\u001b[0;34m\u001b[0m\u001b[0m\n\u001b[0m\u001b[1;32m    835\u001b[0m             \u001b[0;32mif\u001b[0m \u001b[0mself\u001b[0m\u001b[0;34m.\u001b[0m\u001b[0mline_width\u001b[0m \u001b[0;32mis\u001b[0m \u001b[0;32mNone\u001b[0m\u001b[0;34m:\u001b[0m  \u001b[0;31m# no need to wrap around just print\u001b[0m\u001b[0;34m\u001b[0m\u001b[0;34m\u001b[0m\u001b[0m\n\u001b[1;32m    836\u001b[0m                 \u001b[0;31m# the whole frame\u001b[0m\u001b[0;34m\u001b[0m\u001b[0;34m\u001b[0m\u001b[0;34m\u001b[0m\u001b[0m\n",
            "\u001b[0;32m/usr/local/lib/python3.7/dist-packages/pandas/io/formats/format.py\u001b[0m in \u001b[0;36m_to_str_columns\u001b[0;34m(self)\u001b[0m\n\u001b[1;32m    768\u001b[0m                     \u001b[0mcol_space\u001b[0m\u001b[0;34m.\u001b[0m\u001b[0mget\u001b[0m\u001b[0;34m(\u001b[0m\u001b[0mc\u001b[0m\u001b[0;34m,\u001b[0m \u001b[0;36m0\u001b[0m\u001b[0;34m)\u001b[0m\u001b[0;34m,\u001b[0m \u001b[0;34m*\u001b[0m\u001b[0;34m(\u001b[0m\u001b[0mself\u001b[0m\u001b[0;34m.\u001b[0m\u001b[0madj\u001b[0m\u001b[0;34m.\u001b[0m\u001b[0mlen\u001b[0m\u001b[0;34m(\u001b[0m\u001b[0mx\u001b[0m\u001b[0;34m)\u001b[0m \u001b[0;32mfor\u001b[0m \u001b[0mx\u001b[0m \u001b[0;32min\u001b[0m \u001b[0mcheader\u001b[0m\u001b[0;34m)\u001b[0m\u001b[0;34m\u001b[0m\u001b[0;34m\u001b[0m\u001b[0m\n\u001b[1;32m    769\u001b[0m                 )\n\u001b[0;32m--> 770\u001b[0;31m                 \u001b[0mfmt_values\u001b[0m \u001b[0;34m=\u001b[0m \u001b[0mself\u001b[0m\u001b[0;34m.\u001b[0m\u001b[0m_format_col\u001b[0m\u001b[0;34m(\u001b[0m\u001b[0mi\u001b[0m\u001b[0;34m)\u001b[0m\u001b[0;34m\u001b[0m\u001b[0;34m\u001b[0m\u001b[0m\n\u001b[0m\u001b[1;32m    771\u001b[0m                 fmt_values = _make_fixed_width(\n\u001b[1;32m    772\u001b[0m                     \u001b[0mfmt_values\u001b[0m\u001b[0;34m,\u001b[0m \u001b[0mself\u001b[0m\u001b[0;34m.\u001b[0m\u001b[0mjustify\u001b[0m\u001b[0;34m,\u001b[0m \u001b[0mminimum\u001b[0m\u001b[0;34m=\u001b[0m\u001b[0mheader_colwidth\u001b[0m\u001b[0;34m,\u001b[0m \u001b[0madj\u001b[0m\u001b[0;34m=\u001b[0m\u001b[0mself\u001b[0m\u001b[0;34m.\u001b[0m\u001b[0madj\u001b[0m\u001b[0;34m\u001b[0m\u001b[0;34m\u001b[0m\u001b[0m\n",
            "\u001b[0;32m/usr/local/lib/python3.7/dist-packages/pandas/io/formats/format.py\u001b[0m in \u001b[0;36m_format_col\u001b[0;34m(self, i)\u001b[0m\n\u001b[1;32m    958\u001b[0m             \u001b[0mna_rep\u001b[0m\u001b[0;34m=\u001b[0m\u001b[0mself\u001b[0m\u001b[0;34m.\u001b[0m\u001b[0mna_rep\u001b[0m\u001b[0;34m,\u001b[0m\u001b[0;34m\u001b[0m\u001b[0;34m\u001b[0m\u001b[0m\n\u001b[1;32m    959\u001b[0m             \u001b[0mspace\u001b[0m\u001b[0;34m=\u001b[0m\u001b[0mself\u001b[0m\u001b[0;34m.\u001b[0m\u001b[0mcol_space\u001b[0m\u001b[0;34m.\u001b[0m\u001b[0mget\u001b[0m\u001b[0;34m(\u001b[0m\u001b[0mframe\u001b[0m\u001b[0;34m.\u001b[0m\u001b[0mcolumns\u001b[0m\u001b[0;34m[\u001b[0m\u001b[0mi\u001b[0m\u001b[0;34m]\u001b[0m\u001b[0;34m)\u001b[0m\u001b[0;34m,\u001b[0m\u001b[0;34m\u001b[0m\u001b[0;34m\u001b[0m\u001b[0m\n\u001b[0;32m--> 960\u001b[0;31m             \u001b[0mdecimal\u001b[0m\u001b[0;34m=\u001b[0m\u001b[0mself\u001b[0m\u001b[0;34m.\u001b[0m\u001b[0mdecimal\u001b[0m\u001b[0;34m,\u001b[0m\u001b[0;34m\u001b[0m\u001b[0;34m\u001b[0m\u001b[0m\n\u001b[0m\u001b[1;32m    961\u001b[0m         )\n\u001b[1;32m    962\u001b[0m \u001b[0;34m\u001b[0m\u001b[0m\n",
            "\u001b[0;32m/usr/local/lib/python3.7/dist-packages/pandas/io/formats/format.py\u001b[0m in \u001b[0;36mformat_array\u001b[0;34m(values, formatter, float_format, na_rep, digits, space, justify, decimal, leading_space, quoting)\u001b[0m\n\u001b[1;32m   1177\u001b[0m     )\n\u001b[1;32m   1178\u001b[0m \u001b[0;34m\u001b[0m\u001b[0m\n\u001b[0;32m-> 1179\u001b[0;31m     \u001b[0;32mreturn\u001b[0m \u001b[0mfmt_obj\u001b[0m\u001b[0;34m.\u001b[0m\u001b[0mget_result\u001b[0m\u001b[0;34m(\u001b[0m\u001b[0;34m)\u001b[0m\u001b[0;34m\u001b[0m\u001b[0;34m\u001b[0m\u001b[0m\n\u001b[0m\u001b[1;32m   1180\u001b[0m \u001b[0;34m\u001b[0m\u001b[0m\n\u001b[1;32m   1181\u001b[0m \u001b[0;34m\u001b[0m\u001b[0m\n",
            "\u001b[0;32m/usr/local/lib/python3.7/dist-packages/pandas/io/formats/format.py\u001b[0m in \u001b[0;36mget_result\u001b[0;34m(self)\u001b[0m\n\u001b[1;32m   1208\u001b[0m \u001b[0;34m\u001b[0m\u001b[0m\n\u001b[1;32m   1209\u001b[0m     \u001b[0;32mdef\u001b[0m \u001b[0mget_result\u001b[0m\u001b[0;34m(\u001b[0m\u001b[0mself\u001b[0m\u001b[0;34m)\u001b[0m \u001b[0;34m->\u001b[0m \u001b[0mList\u001b[0m\u001b[0;34m[\u001b[0m\u001b[0mstr\u001b[0m\u001b[0;34m]\u001b[0m\u001b[0;34m:\u001b[0m\u001b[0;34m\u001b[0m\u001b[0;34m\u001b[0m\u001b[0m\n\u001b[0;32m-> 1210\u001b[0;31m         \u001b[0mfmt_values\u001b[0m \u001b[0;34m=\u001b[0m \u001b[0mself\u001b[0m\u001b[0;34m.\u001b[0m\u001b[0m_format_strings\u001b[0m\u001b[0;34m(\u001b[0m\u001b[0;34m)\u001b[0m\u001b[0;34m\u001b[0m\u001b[0;34m\u001b[0m\u001b[0m\n\u001b[0m\u001b[1;32m   1211\u001b[0m         \u001b[0;32mreturn\u001b[0m \u001b[0m_make_fixed_width\u001b[0m\u001b[0;34m(\u001b[0m\u001b[0mfmt_values\u001b[0m\u001b[0;34m,\u001b[0m \u001b[0mself\u001b[0m\u001b[0;34m.\u001b[0m\u001b[0mjustify\u001b[0m\u001b[0;34m)\u001b[0m\u001b[0;34m\u001b[0m\u001b[0;34m\u001b[0m\u001b[0m\n\u001b[1;32m   1212\u001b[0m \u001b[0;34m\u001b[0m\u001b[0m\n",
            "\u001b[0;32m/usr/local/lib/python3.7/dist-packages/pandas/io/formats/format.py\u001b[0m in \u001b[0;36m_format_strings\u001b[0;34m(self)\u001b[0m\n\u001b[1;32m   1275\u001b[0m                 \u001b[0;32melse\u001b[0m\u001b[0;34m:\u001b[0m\u001b[0;34m\u001b[0m\u001b[0;34m\u001b[0m\u001b[0m\n\u001b[1;32m   1276\u001b[0m                     \u001b[0mtpl\u001b[0m \u001b[0;34m=\u001b[0m \u001b[0;34m\" {v}\"\u001b[0m\u001b[0;34m\u001b[0m\u001b[0;34m\u001b[0m\u001b[0m\n\u001b[0;32m-> 1277\u001b[0;31m                 \u001b[0mfmt_values\u001b[0m\u001b[0;34m.\u001b[0m\u001b[0mappend\u001b[0m\u001b[0;34m(\u001b[0m\u001b[0mtpl\u001b[0m\u001b[0;34m.\u001b[0m\u001b[0mformat\u001b[0m\u001b[0;34m(\u001b[0m\u001b[0mv\u001b[0m\u001b[0;34m=\u001b[0m\u001b[0m_format\u001b[0m\u001b[0;34m(\u001b[0m\u001b[0mv\u001b[0m\u001b[0;34m)\u001b[0m\u001b[0;34m)\u001b[0m\u001b[0;34m)\u001b[0m\u001b[0;34m\u001b[0m\u001b[0;34m\u001b[0m\u001b[0m\n\u001b[0m\u001b[1;32m   1278\u001b[0m \u001b[0;34m\u001b[0m\u001b[0m\n\u001b[1;32m   1279\u001b[0m         \u001b[0;32mreturn\u001b[0m \u001b[0mfmt_values\u001b[0m\u001b[0;34m\u001b[0m\u001b[0;34m\u001b[0m\u001b[0m\n",
            "\u001b[0;32m/usr/local/lib/python3.7/dist-packages/pandas/io/formats/format.py\u001b[0m in \u001b[0;36m_format\u001b[0;34m(x)\u001b[0m\n\u001b[1;32m   1249\u001b[0m             \u001b[0;32melse\u001b[0m\u001b[0;34m:\u001b[0m\u001b[0;34m\u001b[0m\u001b[0;34m\u001b[0m\u001b[0m\n\u001b[1;32m   1250\u001b[0m                 \u001b[0;31m# object dtype\u001b[0m\u001b[0;34m\u001b[0m\u001b[0;34m\u001b[0m\u001b[0;34m\u001b[0m\u001b[0m\n\u001b[0;32m-> 1251\u001b[0;31m                 \u001b[0;32mreturn\u001b[0m \u001b[0mstr\u001b[0m\u001b[0;34m(\u001b[0m\u001b[0mformatter\u001b[0m\u001b[0;34m(\u001b[0m\u001b[0mx\u001b[0m\u001b[0;34m)\u001b[0m\u001b[0;34m)\u001b[0m\u001b[0;34m\u001b[0m\u001b[0;34m\u001b[0m\u001b[0m\n\u001b[0m\u001b[1;32m   1252\u001b[0m \u001b[0;34m\u001b[0m\u001b[0m\n\u001b[1;32m   1253\u001b[0m         \u001b[0mvals\u001b[0m \u001b[0;34m=\u001b[0m \u001b[0mextract_array\u001b[0m\u001b[0;34m(\u001b[0m\u001b[0mself\u001b[0m\u001b[0;34m.\u001b[0m\u001b[0mvalues\u001b[0m\u001b[0;34m,\u001b[0m \u001b[0mextract_numpy\u001b[0m\u001b[0;34m=\u001b[0m\u001b[0;32mTrue\u001b[0m\u001b[0;34m)\u001b[0m\u001b[0;34m\u001b[0m\u001b[0;34m\u001b[0m\u001b[0m\n",
            "\u001b[0;32m/usr/local/lib/python3.7/dist-packages/pandas/io/formats/printing.py\u001b[0m in \u001b[0;36mpprint_thing\u001b[0;34m(thing, _nest_lvl, escape_chars, default_escapes, quote_strings, max_seq_items)\u001b[0m\n\u001b[1;32m    227\u001b[0m             \u001b[0mescape_chars\u001b[0m\u001b[0;34m=\u001b[0m\u001b[0mescape_chars\u001b[0m\u001b[0;34m,\u001b[0m\u001b[0;34m\u001b[0m\u001b[0;34m\u001b[0m\u001b[0m\n\u001b[1;32m    228\u001b[0m             \u001b[0mquote_strings\u001b[0m\u001b[0;34m=\u001b[0m\u001b[0mquote_strings\u001b[0m\u001b[0;34m,\u001b[0m\u001b[0;34m\u001b[0m\u001b[0;34m\u001b[0m\u001b[0m\n\u001b[0;32m--> 229\u001b[0;31m             \u001b[0mmax_seq_items\u001b[0m\u001b[0;34m=\u001b[0m\u001b[0mmax_seq_items\u001b[0m\u001b[0;34m,\u001b[0m\u001b[0;34m\u001b[0m\u001b[0;34m\u001b[0m\u001b[0m\n\u001b[0m\u001b[1;32m    230\u001b[0m         )\n\u001b[1;32m    231\u001b[0m     \u001b[0;32melif\u001b[0m \u001b[0misinstance\u001b[0m\u001b[0;34m(\u001b[0m\u001b[0mthing\u001b[0m\u001b[0;34m,\u001b[0m \u001b[0mstr\u001b[0m\u001b[0;34m)\u001b[0m \u001b[0;32mand\u001b[0m \u001b[0mquote_strings\u001b[0m\u001b[0;34m:\u001b[0m\u001b[0;34m\u001b[0m\u001b[0;34m\u001b[0m\u001b[0m\n",
            "\u001b[0;32m/usr/local/lib/python3.7/dist-packages/pandas/io/formats/printing.py\u001b[0m in \u001b[0;36m_pprint_seq\u001b[0;34m(seq, _nest_lvl, max_seq_items, **kwds)\u001b[0m\n\u001b[1;32m    121\u001b[0m     r = [\n\u001b[1;32m    122\u001b[0m         \u001b[0mpprint_thing\u001b[0m\u001b[0;34m(\u001b[0m\u001b[0mnext\u001b[0m\u001b[0;34m(\u001b[0m\u001b[0ms\u001b[0m\u001b[0;34m)\u001b[0m\u001b[0;34m,\u001b[0m \u001b[0m_nest_lvl\u001b[0m \u001b[0;34m+\u001b[0m \u001b[0;36m1\u001b[0m\u001b[0;34m,\u001b[0m \u001b[0mmax_seq_items\u001b[0m\u001b[0;34m=\u001b[0m\u001b[0mmax_seq_items\u001b[0m\u001b[0;34m,\u001b[0m \u001b[0;34m**\u001b[0m\u001b[0mkwds\u001b[0m\u001b[0;34m)\u001b[0m\u001b[0;34m\u001b[0m\u001b[0;34m\u001b[0m\u001b[0m\n\u001b[0;32m--> 123\u001b[0;31m         \u001b[0;32mfor\u001b[0m \u001b[0mi\u001b[0m \u001b[0;32min\u001b[0m \u001b[0mrange\u001b[0m\u001b[0;34m(\u001b[0m\u001b[0mmin\u001b[0m\u001b[0;34m(\u001b[0m\u001b[0mnitems\u001b[0m\u001b[0;34m,\u001b[0m \u001b[0mlen\u001b[0m\u001b[0;34m(\u001b[0m\u001b[0mseq\u001b[0m\u001b[0;34m)\u001b[0m\u001b[0;34m)\u001b[0m\u001b[0;34m)\u001b[0m\u001b[0;34m\u001b[0m\u001b[0;34m\u001b[0m\u001b[0m\n\u001b[0m\u001b[1;32m    124\u001b[0m     ]\n\u001b[1;32m    125\u001b[0m     \u001b[0mbody\u001b[0m \u001b[0;34m=\u001b[0m \u001b[0;34m\", \"\u001b[0m\u001b[0;34m.\u001b[0m\u001b[0mjoin\u001b[0m\u001b[0;34m(\u001b[0m\u001b[0mr\u001b[0m\u001b[0;34m)\u001b[0m\u001b[0;34m\u001b[0m\u001b[0;34m\u001b[0m\u001b[0m\n",
            "\u001b[0;32m/usr/local/lib/python3.7/dist-packages/pandas/io/formats/printing.py\u001b[0m in \u001b[0;36m<listcomp>\u001b[0;34m(.0)\u001b[0m\n\u001b[1;32m    121\u001b[0m     r = [\n\u001b[1;32m    122\u001b[0m         \u001b[0mpprint_thing\u001b[0m\u001b[0;34m(\u001b[0m\u001b[0mnext\u001b[0m\u001b[0;34m(\u001b[0m\u001b[0ms\u001b[0m\u001b[0;34m)\u001b[0m\u001b[0;34m,\u001b[0m \u001b[0m_nest_lvl\u001b[0m \u001b[0;34m+\u001b[0m \u001b[0;36m1\u001b[0m\u001b[0;34m,\u001b[0m \u001b[0mmax_seq_items\u001b[0m\u001b[0;34m=\u001b[0m\u001b[0mmax_seq_items\u001b[0m\u001b[0;34m,\u001b[0m \u001b[0;34m**\u001b[0m\u001b[0mkwds\u001b[0m\u001b[0;34m)\u001b[0m\u001b[0;34m\u001b[0m\u001b[0;34m\u001b[0m\u001b[0m\n\u001b[0;32m--> 123\u001b[0;31m         \u001b[0;32mfor\u001b[0m \u001b[0mi\u001b[0m \u001b[0;32min\u001b[0m \u001b[0mrange\u001b[0m\u001b[0;34m(\u001b[0m\u001b[0mmin\u001b[0m\u001b[0;34m(\u001b[0m\u001b[0mnitems\u001b[0m\u001b[0;34m,\u001b[0m \u001b[0mlen\u001b[0m\u001b[0;34m(\u001b[0m\u001b[0mseq\u001b[0m\u001b[0;34m)\u001b[0m\u001b[0;34m)\u001b[0m\u001b[0;34m)\u001b[0m\u001b[0;34m\u001b[0m\u001b[0;34m\u001b[0m\u001b[0m\n\u001b[0m\u001b[1;32m    124\u001b[0m     ]\n\u001b[1;32m    125\u001b[0m     \u001b[0mbody\u001b[0m \u001b[0;34m=\u001b[0m \u001b[0;34m\", \"\u001b[0m\u001b[0;34m.\u001b[0m\u001b[0mjoin\u001b[0m\u001b[0;34m(\u001b[0m\u001b[0mr\u001b[0m\u001b[0;34m)\u001b[0m\u001b[0;34m\u001b[0m\u001b[0;34m\u001b[0m\u001b[0m\n",
            "\u001b[0;32m/usr/local/lib/python3.7/dist-packages/pandas/io/formats/printing.py\u001b[0m in \u001b[0;36mpprint_thing\u001b[0;34m(thing, _nest_lvl, escape_chars, default_escapes, quote_strings, max_seq_items)\u001b[0m\n\u001b[1;32m    227\u001b[0m             \u001b[0mescape_chars\u001b[0m\u001b[0;34m=\u001b[0m\u001b[0mescape_chars\u001b[0m\u001b[0;34m,\u001b[0m\u001b[0;34m\u001b[0m\u001b[0;34m\u001b[0m\u001b[0m\n\u001b[1;32m    228\u001b[0m             \u001b[0mquote_strings\u001b[0m\u001b[0;34m=\u001b[0m\u001b[0mquote_strings\u001b[0m\u001b[0;34m,\u001b[0m\u001b[0;34m\u001b[0m\u001b[0;34m\u001b[0m\u001b[0m\n\u001b[0;32m--> 229\u001b[0;31m             \u001b[0mmax_seq_items\u001b[0m\u001b[0;34m=\u001b[0m\u001b[0mmax_seq_items\u001b[0m\u001b[0;34m,\u001b[0m\u001b[0;34m\u001b[0m\u001b[0;34m\u001b[0m\u001b[0m\n\u001b[0m\u001b[1;32m    230\u001b[0m         )\n\u001b[1;32m    231\u001b[0m     \u001b[0;32melif\u001b[0m \u001b[0misinstance\u001b[0m\u001b[0;34m(\u001b[0m\u001b[0mthing\u001b[0m\u001b[0;34m,\u001b[0m \u001b[0mstr\u001b[0m\u001b[0;34m)\u001b[0m \u001b[0;32mand\u001b[0m \u001b[0mquote_strings\u001b[0m\u001b[0;34m:\u001b[0m\u001b[0;34m\u001b[0m\u001b[0;34m\u001b[0m\u001b[0m\n",
            "\u001b[0;32m/usr/local/lib/python3.7/dist-packages/pandas/io/formats/printing.py\u001b[0m in \u001b[0;36m_pprint_seq\u001b[0;34m(seq, _nest_lvl, max_seq_items, **kwds)\u001b[0m\n\u001b[1;32m    121\u001b[0m     r = [\n\u001b[1;32m    122\u001b[0m         \u001b[0mpprint_thing\u001b[0m\u001b[0;34m(\u001b[0m\u001b[0mnext\u001b[0m\u001b[0;34m(\u001b[0m\u001b[0ms\u001b[0m\u001b[0;34m)\u001b[0m\u001b[0;34m,\u001b[0m \u001b[0m_nest_lvl\u001b[0m \u001b[0;34m+\u001b[0m \u001b[0;36m1\u001b[0m\u001b[0;34m,\u001b[0m \u001b[0mmax_seq_items\u001b[0m\u001b[0;34m=\u001b[0m\u001b[0mmax_seq_items\u001b[0m\u001b[0;34m,\u001b[0m \u001b[0;34m**\u001b[0m\u001b[0mkwds\u001b[0m\u001b[0;34m)\u001b[0m\u001b[0;34m\u001b[0m\u001b[0;34m\u001b[0m\u001b[0m\n\u001b[0;32m--> 123\u001b[0;31m         \u001b[0;32mfor\u001b[0m \u001b[0mi\u001b[0m \u001b[0;32min\u001b[0m \u001b[0mrange\u001b[0m\u001b[0;34m(\u001b[0m\u001b[0mmin\u001b[0m\u001b[0;34m(\u001b[0m\u001b[0mnitems\u001b[0m\u001b[0;34m,\u001b[0m \u001b[0mlen\u001b[0m\u001b[0;34m(\u001b[0m\u001b[0mseq\u001b[0m\u001b[0;34m)\u001b[0m\u001b[0;34m)\u001b[0m\u001b[0;34m)\u001b[0m\u001b[0;34m\u001b[0m\u001b[0;34m\u001b[0m\u001b[0m\n\u001b[0m\u001b[1;32m    124\u001b[0m     ]\n\u001b[1;32m    125\u001b[0m     \u001b[0mbody\u001b[0m \u001b[0;34m=\u001b[0m \u001b[0;34m\", \"\u001b[0m\u001b[0;34m.\u001b[0m\u001b[0mjoin\u001b[0m\u001b[0;34m(\u001b[0m\u001b[0mr\u001b[0m\u001b[0;34m)\u001b[0m\u001b[0;34m\u001b[0m\u001b[0;34m\u001b[0m\u001b[0m\n",
            "\u001b[0;32m/usr/local/lib/python3.7/dist-packages/pandas/io/formats/printing.py\u001b[0m in \u001b[0;36m<listcomp>\u001b[0;34m(.0)\u001b[0m\n\u001b[1;32m    121\u001b[0m     r = [\n\u001b[1;32m    122\u001b[0m         \u001b[0mpprint_thing\u001b[0m\u001b[0;34m(\u001b[0m\u001b[0mnext\u001b[0m\u001b[0;34m(\u001b[0m\u001b[0ms\u001b[0m\u001b[0;34m)\u001b[0m\u001b[0;34m,\u001b[0m \u001b[0m_nest_lvl\u001b[0m \u001b[0;34m+\u001b[0m \u001b[0;36m1\u001b[0m\u001b[0;34m,\u001b[0m \u001b[0mmax_seq_items\u001b[0m\u001b[0;34m=\u001b[0m\u001b[0mmax_seq_items\u001b[0m\u001b[0;34m,\u001b[0m \u001b[0;34m**\u001b[0m\u001b[0mkwds\u001b[0m\u001b[0;34m)\u001b[0m\u001b[0;34m\u001b[0m\u001b[0;34m\u001b[0m\u001b[0m\n\u001b[0;32m--> 123\u001b[0;31m         \u001b[0;32mfor\u001b[0m \u001b[0mi\u001b[0m \u001b[0;32min\u001b[0m \u001b[0mrange\u001b[0m\u001b[0;34m(\u001b[0m\u001b[0mmin\u001b[0m\u001b[0;34m(\u001b[0m\u001b[0mnitems\u001b[0m\u001b[0;34m,\u001b[0m \u001b[0mlen\u001b[0m\u001b[0;34m(\u001b[0m\u001b[0mseq\u001b[0m\u001b[0;34m)\u001b[0m\u001b[0;34m)\u001b[0m\u001b[0;34m)\u001b[0m\u001b[0;34m\u001b[0m\u001b[0;34m\u001b[0m\u001b[0m\n\u001b[0m\u001b[1;32m    124\u001b[0m     ]\n\u001b[1;32m    125\u001b[0m     \u001b[0mbody\u001b[0m \u001b[0;34m=\u001b[0m \u001b[0;34m\", \"\u001b[0m\u001b[0;34m.\u001b[0m\u001b[0mjoin\u001b[0m\u001b[0;34m(\u001b[0m\u001b[0mr\u001b[0m\u001b[0;34m)\u001b[0m\u001b[0;34m\u001b[0m\u001b[0;34m\u001b[0m\u001b[0m\n",
            "\u001b[0;32m/usr/local/lib/python3.7/dist-packages/pandas/io/formats/printing.py\u001b[0m in \u001b[0;36mpprint_thing\u001b[0;34m(thing, _nest_lvl, escape_chars, default_escapes, quote_strings, max_seq_items)\u001b[0m\n\u001b[1;32m    232\u001b[0m         \u001b[0mresult\u001b[0m \u001b[0;34m=\u001b[0m \u001b[0;34mf\"'{as_escaped_string(thing)}'\"\u001b[0m\u001b[0;34m\u001b[0m\u001b[0;34m\u001b[0m\u001b[0m\n\u001b[1;32m    233\u001b[0m     \u001b[0;32melse\u001b[0m\u001b[0;34m:\u001b[0m\u001b[0;34m\u001b[0m\u001b[0;34m\u001b[0m\u001b[0m\n\u001b[0;32m--> 234\u001b[0;31m         \u001b[0mresult\u001b[0m \u001b[0;34m=\u001b[0m \u001b[0mas_escaped_string\u001b[0m\u001b[0;34m(\u001b[0m\u001b[0mthing\u001b[0m\u001b[0;34m)\u001b[0m\u001b[0;34m\u001b[0m\u001b[0;34m\u001b[0m\u001b[0m\n\u001b[0m\u001b[1;32m    235\u001b[0m \u001b[0;34m\u001b[0m\u001b[0m\n\u001b[1;32m    236\u001b[0m     \u001b[0;32mreturn\u001b[0m \u001b[0mresult\u001b[0m\u001b[0;34m\u001b[0m\u001b[0;34m\u001b[0m\u001b[0m\n",
            "\u001b[0;32m/usr/local/lib/python3.7/dist-packages/pandas/io/formats/printing.py\u001b[0m in \u001b[0;36mas_escaped_string\u001b[0;34m(thing, escape_chars)\u001b[0m\n\u001b[1;32m    210\u001b[0m         \u001b[0mresult\u001b[0m \u001b[0;34m=\u001b[0m \u001b[0mstr\u001b[0m\u001b[0;34m(\u001b[0m\u001b[0mthing\u001b[0m\u001b[0;34m)\u001b[0m\u001b[0;34m\u001b[0m\u001b[0;34m\u001b[0m\u001b[0m\n\u001b[1;32m    211\u001b[0m         \u001b[0;32mfor\u001b[0m \u001b[0mc\u001b[0m \u001b[0;32min\u001b[0m \u001b[0mescape_chars\u001b[0m\u001b[0;34m:\u001b[0m\u001b[0;34m\u001b[0m\u001b[0;34m\u001b[0m\u001b[0m\n\u001b[0;32m--> 212\u001b[0;31m             \u001b[0mresult\u001b[0m \u001b[0;34m=\u001b[0m \u001b[0mresult\u001b[0m\u001b[0;34m.\u001b[0m\u001b[0mreplace\u001b[0m\u001b[0;34m(\u001b[0m\u001b[0mc\u001b[0m\u001b[0;34m,\u001b[0m \u001b[0mtranslate\u001b[0m\u001b[0;34m[\u001b[0m\u001b[0mc\u001b[0m\u001b[0;34m]\u001b[0m\u001b[0;34m)\u001b[0m\u001b[0;34m\u001b[0m\u001b[0;34m\u001b[0m\u001b[0m\n\u001b[0m\u001b[1;32m    213\u001b[0m         \u001b[0;32mreturn\u001b[0m \u001b[0mresult\u001b[0m\u001b[0;34m\u001b[0m\u001b[0;34m\u001b[0m\u001b[0m\n\u001b[1;32m    214\u001b[0m \u001b[0;34m\u001b[0m\u001b[0m\n",
            "\u001b[0;31mKeyboardInterrupt\u001b[0m: "
          ]
        }
      ]
    },
    {
      "cell_type": "code",
      "metadata": {
        "id": "PXDCoP1Q9Olm"
      },
      "source": [
        ""
      ],
      "execution_count": null,
      "outputs": []
    }
  ]
}